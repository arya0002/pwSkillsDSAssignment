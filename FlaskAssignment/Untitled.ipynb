{
 "cells": [
  {
   "cell_type": "markdown",
   "id": "bbbd0c48-d0b0-4321-a2c3-c3bd10fb94aa",
   "metadata": {},
   "source": [
    "![](download (2).png)"
   ]
  },
  {
   "cell_type": "code",
   "execution_count": null,
   "id": "9bb6eeca-2552-4e30-955a-90393dc26a38",
   "metadata": {},
   "outputs": [],
   "source": []
  }
 ],
 "metadata": {
  "kernelspec": {
   "display_name": "Python 3 (ipykernel)",
   "language": "python",
   "name": "python3"
  },
  "language_info": {
   "codemirror_mode": {
    "name": "ipython",
    "version": 3
   },
   "file_extension": ".py",
   "mimetype": "text/x-python",
   "name": "python",
   "nbconvert_exporter": "python",
   "pygments_lexer": "ipython3",
   "version": "3.10.8"
  }
 },
 "nbformat": 4,
 "nbformat_minor": 5
}
